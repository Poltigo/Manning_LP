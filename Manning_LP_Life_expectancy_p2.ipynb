{
 "cells": [
  {
   "cell_type": "markdown",
   "id": "nervous-temperature",
   "metadata": {},
   "source": [
    "## MANNING PROJECTS - Demographic Data Analysis"
   ]
  },
  {
   "cell_type": "code",
   "execution_count": 1,
   "id": "forced-advancement",
   "metadata": {},
   "outputs": [],
   "source": [
    "import pandas as pd\n",
    "import os\n",
    "import re\n",
    "import numpy as np\n",
    "import seaborn as sns\n",
    "import matplotlib.pyplot as plt\n",
    "%matplotlib inline\n",
    "pd.set_option('display.float_format', '{:.2f}'.format)"
   ]
  },
  {
   "cell_type": "markdown",
   "id": "imported-fundamental",
   "metadata": {},
   "source": [
    "## 1. Data visualizations"
   ]
  },
  {
   "cell_type": "code",
   "execution_count": 2,
   "id": "desirable-principle",
   "metadata": {},
   "outputs": [],
   "source": [
    "folder_path = r'C:\\Users\\igord\\Projects\\Manning\\Life_exp\\csv\\output'"
   ]
  },
  {
   "cell_type": "code",
   "execution_count": 3,
   "id": "embedded-dominican",
   "metadata": {},
   "outputs": [],
   "source": [
    "separator = '\\\\'"
   ]
  },
  {
   "cell_type": "code",
   "execution_count": 4,
   "id": "documented-discount",
   "metadata": {},
   "outputs": [],
   "source": [
    "file_list = os.listdir(folder_path)"
   ]
  },
  {
   "cell_type": "code",
   "execution_count": 5,
   "id": "difficult-credits",
   "metadata": {},
   "outputs": [
    {
     "data": {
      "text/plain": [
       "['Area.csv',\n",
       " 'Crime.csv',\n",
       " 'Edu.csv',\n",
       " 'Income.csv',\n",
       " 'Life_Exp.csv',\n",
       " 'Region.csv']"
      ]
     },
     "execution_count": 5,
     "metadata": {},
     "output_type": "execute_result"
    }
   ],
   "source": [
    "file_list"
   ]
  },
  {
   "cell_type": "markdown",
   "id": "indonesian-parent",
   "metadata": {},
   "source": [
    "Custom service functions"
   ]
  },
  {
   "cell_type": "code",
   "execution_count": 6,
   "id": "lonely-paint",
   "metadata": {},
   "outputs": [],
   "source": [
    "area = pd.read_csv(folder_path + separator + file_list[0])"
   ]
  },
  {
   "cell_type": "code",
   "execution_count": 7,
   "id": "realistic-chamber",
   "metadata": {},
   "outputs": [],
   "source": [
    "crime = pd.read_csv(folder_path + separator + file_list[1])"
   ]
  },
  {
   "cell_type": "code",
   "execution_count": 8,
   "id": "conservative-artist",
   "metadata": {},
   "outputs": [],
   "source": [
    "edu = pd.read_csv(folder_path + separator + file_list[2])"
   ]
  },
  {
   "cell_type": "code",
   "execution_count": 9,
   "id": "current-manor",
   "metadata": {},
   "outputs": [],
   "source": [
    "income = pd.read_csv(folder_path + separator + file_list[3])"
   ]
  },
  {
   "cell_type": "code",
   "execution_count": 10,
   "id": "sufficient-anchor",
   "metadata": {},
   "outputs": [],
   "source": [
    "life = pd.read_csv(folder_path + separator + file_list[4])"
   ]
  },
  {
   "cell_type": "code",
   "execution_count": 11,
   "id": "stone-seller",
   "metadata": {},
   "outputs": [],
   "source": [
    "region = pd.read_csv(folder_path + separator + file_list[5])"
   ]
  },
  {
   "cell_type": "markdown",
   "id": "accompanied-association",
   "metadata": {},
   "source": [
    "#### Merging all together"
   ]
  },
  {
   "cell_type": "code",
   "execution_count": 12,
   "id": "indian-latitude",
   "metadata": {},
   "outputs": [],
   "source": [
    "total = area.merge(crime, how = 'inner')"
   ]
  },
  {
   "cell_type": "code",
   "execution_count": 13,
   "id": "precious-operation",
   "metadata": {},
   "outputs": [],
   "source": [
    "total = total.merge(edu, how = 'inner')"
   ]
  },
  {
   "cell_type": "code",
   "execution_count": 14,
   "id": "electric-stomach",
   "metadata": {},
   "outputs": [],
   "source": [
    "total = total.merge(income, how = 'inner')"
   ]
  },
  {
   "cell_type": "code",
   "execution_count": 15,
   "id": "pending-creature",
   "metadata": {},
   "outputs": [],
   "source": [
    "total = total.merge(life, how = 'inner')"
   ]
  },
  {
   "cell_type": "code",
   "execution_count": 16,
   "id": "invalid-titanium",
   "metadata": {},
   "outputs": [],
   "source": [
    "total = total.merge(region, how = 'inner')"
   ]
  },
  {
   "cell_type": "code",
   "execution_count": 17,
   "id": "blocked-comedy",
   "metadata": {},
   "outputs": [
    {
     "data": {
      "text/html": [
       "<div>\n",
       "<style scoped>\n",
       "    .dataframe tbody tr th:only-of-type {\n",
       "        vertical-align: middle;\n",
       "    }\n",
       "\n",
       "    .dataframe tbody tr th {\n",
       "        vertical-align: top;\n",
       "    }\n",
       "\n",
       "    .dataframe thead th {\n",
       "        text-align: right;\n",
       "    }\n",
       "</style>\n",
       "<table border=\"1\" class=\"dataframe\">\n",
       "  <thead>\n",
       "    <tr style=\"text-align: right;\">\n",
       "      <th></th>\n",
       "      <th>State</th>\n",
       "      <th>TotalRank</th>\n",
       "      <th>TotalSqMi</th>\n",
       "      <th>TotalKmQ</th>\n",
       "      <th>LandRank</th>\n",
       "      <th>LandSqMi</th>\n",
       "      <th>LandKmQ</th>\n",
       "      <th>LandPer</th>\n",
       "      <th>WaterRank</th>\n",
       "      <th>WaterSqMi</th>\n",
       "      <th>...</th>\n",
       "      <th>Income2009</th>\n",
       "      <th>Income2008</th>\n",
       "      <th>Income2007</th>\n",
       "      <th>LifeExp2018</th>\n",
       "      <th>LifeExp2010</th>\n",
       "      <th>MaleLifeExp</th>\n",
       "      <th>FemLifeExp</th>\n",
       "      <th>Abb</th>\n",
       "      <th>Region</th>\n",
       "      <th>Division</th>\n",
       "    </tr>\n",
       "  </thead>\n",
       "  <tbody>\n",
       "    <tr>\n",
       "      <th>0</th>\n",
       "      <td>Alabama</td>\n",
       "      <td>30</td>\n",
       "      <td>52420.07</td>\n",
       "      <td>135767</td>\n",
       "      <td>28</td>\n",
       "      <td>50645.33</td>\n",
       "      <td>131171</td>\n",
       "      <td>96.61</td>\n",
       "      <td>23</td>\n",
       "      <td>1774.74</td>\n",
       "      <td>...</td>\n",
       "      <td>40489</td>\n",
       "      <td>42666</td>\n",
       "      <td>40554</td>\n",
       "      <td>75.40</td>\n",
       "      <td>75.40</td>\n",
       "      <td>72.60</td>\n",
       "      <td>78.10</td>\n",
       "      <td>AL</td>\n",
       "      <td>South</td>\n",
       "      <td>East South Central</td>\n",
       "    </tr>\n",
       "    <tr>\n",
       "      <th>1</th>\n",
       "      <td>Alaska</td>\n",
       "      <td>1</td>\n",
       "      <td>665384.04</td>\n",
       "      <td>1723337</td>\n",
       "      <td>1</td>\n",
       "      <td>570640.95</td>\n",
       "      <td>1477953</td>\n",
       "      <td>85.76</td>\n",
       "      <td>1</td>\n",
       "      <td>94743.10</td>\n",
       "      <td>...</td>\n",
       "      <td>66953</td>\n",
       "      <td>68460</td>\n",
       "      <td>64333</td>\n",
       "      <td>78.80</td>\n",
       "      <td>78.00</td>\n",
       "      <td>76.70</td>\n",
       "      <td>81.20</td>\n",
       "      <td>AK</td>\n",
       "      <td>West</td>\n",
       "      <td>Pacific</td>\n",
       "    </tr>\n",
       "  </tbody>\n",
       "</table>\n",
       "<p>2 rows × 44 columns</p>\n",
       "</div>"
      ],
      "text/plain": [
       "     State  TotalRank  TotalSqMi  TotalKmQ  LandRank  LandSqMi  LandKmQ  \\\n",
       "0  Alabama         30   52420.07    135767        28  50645.33   131171   \n",
       "1   Alaska          1  665384.04   1723337         1 570640.95  1477953   \n",
       "\n",
       "   LandPer  WaterRank  WaterSqMi  ...  Income2009  Income2008  Income2007  \\\n",
       "0    96.61         23    1774.74  ...       40489       42666       40554   \n",
       "1    85.76          1   94743.10  ...       66953       68460       64333   \n",
       "\n",
       "   LifeExp2018  LifeExp2010  MaleLifeExp  FemLifeExp  Abb  Region  \\\n",
       "0        75.40        75.40        72.60       78.10   AL   South   \n",
       "1        78.80        78.00        76.70       81.20   AK    West   \n",
       "\n",
       "             Division  \n",
       "0  East South Central  \n",
       "1             Pacific  \n",
       "\n",
       "[2 rows x 44 columns]"
      ]
     },
     "execution_count": 17,
     "metadata": {},
     "output_type": "execute_result"
    }
   ],
   "source": [
    "total.head(2)"
   ]
  },
  {
   "cell_type": "code",
   "execution_count": 18,
   "id": "friendly-despite",
   "metadata": {},
   "outputs": [],
   "source": [
    "total['Region'] = pd.Categorical(total['Region'], ordered = False)"
   ]
  },
  {
   "cell_type": "code",
   "execution_count": 19,
   "id": "universal-triangle",
   "metadata": {},
   "outputs": [],
   "source": [
    "total['Division'] = pd.Categorical(total['Division'], ordered = False)"
   ]
  },
  {
   "cell_type": "code",
   "execution_count": 20,
   "id": "heated-massage",
   "metadata": {},
   "outputs": [],
   "source": [
    "total.set_index('State', inplace = True)"
   ]
  },
  {
   "cell_type": "code",
   "execution_count": 21,
   "id": "successful-sleeping",
   "metadata": {},
   "outputs": [
    {
     "name": "stdout",
     "output_type": "stream",
     "text": [
      "<class 'pandas.core.frame.DataFrame'>\n",
      "Index: 50 entries, Alabama to Wyoming\n",
      "Data columns (total 43 columns):\n",
      " #   Column                        Non-Null Count  Dtype   \n",
      "---  ------                        --------------  -----   \n",
      " 0   TotalRank                     50 non-null     int64   \n",
      " 1   TotalSqMi                     50 non-null     float64 \n",
      " 2   TotalKmQ                      50 non-null     int64   \n",
      " 3   LandRank                      50 non-null     int64   \n",
      " 4   LandSqMi                      50 non-null     float64 \n",
      " 5   LandKmQ                       50 non-null     int64   \n",
      " 6   LandPer                       50 non-null     float64 \n",
      " 7   WaterRank                     50 non-null     int64   \n",
      " 8   WaterSqMi                     50 non-null     float64 \n",
      " 9   WaterKmQ                      50 non-null     int64   \n",
      " 10  WaterPer                      50 non-null     float64 \n",
      " 11  Population_total              50 non-null     int64   \n",
      " 12  Murders_and_Manslaughter      50 non-null     int64   \n",
      " 13  Murders                       48 non-null     float64 \n",
      " 14  Gun_Murders                   48 non-null     float64 \n",
      " 15  Gun_Ownership                 50 non-null     float64 \n",
      " 16  Murder_and_manslaughter_rate  50 non-null     float64 \n",
      " 17  Murder_rate                   48 non-null     float64 \n",
      " 18  Gun_Murder_rate               48 non-null     float64 \n",
      " 19  high_school                   50 non-null     float64 \n",
      " 20  high_school_rank              50 non-null     float64 \n",
      " 21  ba_degree                     50 non-null     float64 \n",
      " 22  ba_rank                       50 non-null     float64 \n",
      " 23  adv_degree                    50 non-null     float64 \n",
      " 24  adv_rank                      50 non-null     float64 \n",
      " 25  Income2017                    50 non-null     int64   \n",
      " 26  Income2016                    50 non-null     int64   \n",
      " 27  Income2015                    50 non-null     int64   \n",
      " 28  Income2014                    50 non-null     int64   \n",
      " 29  Income2013                    50 non-null     int64   \n",
      " 30  Income2012                    50 non-null     int64   \n",
      " 31  Income2011                    50 non-null     int64   \n",
      " 32  Income2010                    50 non-null     int64   \n",
      " 33  Income2009                    50 non-null     int64   \n",
      " 34  Income2008                    50 non-null     int64   \n",
      " 35  Income2007                    50 non-null     int64   \n",
      " 36  LifeExp2018                   50 non-null     float64 \n",
      " 37  LifeExp2010                   50 non-null     float64 \n",
      " 38  MaleLifeExp                   50 non-null     float64 \n",
      " 39  FemLifeExp                    50 non-null     float64 \n",
      " 40  Abb                           50 non-null     object  \n",
      " 41  Region                        50 non-null     category\n",
      " 42  Division                      50 non-null     category\n",
      "dtypes: category(2), float64(21), int64(19), object(1)\n",
      "memory usage: 17.1+ KB\n"
     ]
    }
   ],
   "source": [
    "total.info()"
   ]
  },
  {
   "cell_type": "markdown",
   "id": "recovered-gates",
   "metadata": {},
   "source": [
    "### 2. Single variable distribution"
   ]
  },
  {
   "cell_type": "code",
   "execution_count": 22,
   "id": "following-flesh",
   "metadata": {},
   "outputs": [
    {
     "data": {
      "text/plain": [
       "count   50.00\n",
       "mean    78.70\n",
       "std      1.80\n",
       "min     74.80\n",
       "25%     77.85\n",
       "50%     79.10\n",
       "75%     79.90\n",
       "max     82.30\n",
       "Name: LifeExp2018, dtype: float64"
      ]
     },
     "execution_count": 22,
     "metadata": {},
     "output_type": "execute_result"
    }
   ],
   "source": [
    "total.LifeExp2018.describe()"
   ]
  },
  {
   "cell_type": "code",
   "execution_count": 23,
   "id": "choice-spoke",
   "metadata": {},
   "outputs": [
    {
     "data": {
      "text/plain": [
       "Index(['Hawaii'], dtype='object', name='State')"
      ]
     },
     "execution_count": 23,
     "metadata": {},
     "output_type": "execute_result"
    }
   ],
   "source": [
    "# The state with the highest life expectancy\n",
    "total[total.LifeExp2018 == total.LifeExp2018.max()].index"
   ]
  },
  {
   "cell_type": "code",
   "execution_count": 24,
   "id": "isolated-french",
   "metadata": {},
   "outputs": [
    {
     "data": {
      "text/plain": [
       "Index(['West_Virginia'], dtype='object', name='State')"
      ]
     },
     "execution_count": 24,
     "metadata": {},
     "output_type": "execute_result"
    }
   ],
   "source": [
    "# The state with the lowest life expectancy\n",
    "total[total.LifeExp2018 == total.LifeExp2018.min()].index"
   ]
  },
  {
   "cell_type": "code",
   "execution_count": 25,
   "id": "handmade-alliance",
   "metadata": {},
   "outputs": [
    {
     "data": {
      "text/plain": [
       "74.8"
      ]
     },
     "execution_count": 25,
     "metadata": {},
     "output_type": "execute_result"
    }
   ],
   "source": [
    "total.LifeExp2018.min()"
   ]
  },
  {
   "cell_type": "code",
   "execution_count": 26,
   "id": "particular-clothing",
   "metadata": {},
   "outputs": [
    {
     "data": {
      "image/png": "[encoded data removed]",
      "text/plain": [
       "<Figure size 432x288 with 1 Axes>"
      ]
     },
     "metadata": {
      "needs_background": "light"
     },
     "output_type": "display_data"
    }
   ],
   "source": [
    "# Plot of the distribution of life expectancy\n",
    "fig, ax = plt.subplots()\n",
    "sns.histplot(total.LifeExp2018, ax=ax)\n",
    "ax.set(title = \"Distribution of Life Expectancy\", xlabel = \"Life Expectancy\", ylabel = \"Density\")\n",
    "ax.axvline(x=total.LifeExp2018.median(), color='red', label='median', linestyle='--', linewidth=2)\n",
    "ax.axvline(x=total.LifeExp2018.mean(), color='black', label='mean', linewidth=2)\n",
    "ax.legend();"
   ]
  },
  {
   "cell_type": "code",
   "execution_count": 27,
   "id": "brazilian-rolling",
   "metadata": {},
   "outputs": [
    {
     "data": {
      "image/png": "[encoded data removed]",
      "text/plain": [
       "<Figure size 432x288 with 1 Axes>"
      ]
     },
     "metadata": {
      "needs_background": "light"
     },
     "output_type": "display_data"
    }
   ],
   "source": [
    "# Plot the empirical cumulative distribution function (ECtotal) of life expectancy\n",
    "fig, ax = plt.subplots()\n",
    "x = np.sort(total['LifeExp2018'])\n",
    "y = np.arange(1, len(x)+1)/len(x)\n",
    "ax.plot(x, y, '.', linestyle ='none', color='black')\n",
    "ax.set(xlabel='Life expectancy 2018', ylabel='EC', title= 'Empirical Cumulative Distribution of Life Expectancy 2018')\n",
    "ax.axvline(x=80, color='red', linestyle='--', linewidth=2);"
   ]
  },
  {
   "cell_type": "markdown",
   "id": "communist-childhood",
   "metadata": {},
   "source": [
    "### 3. Data Exploration: distribution of a single variable discriminating cases on a categorical variable"
   ]
  },
  {
   "cell_type": "code",
   "execution_count": 28,
   "id": "numeric-orbit",
   "metadata": {},
   "outputs": [
    {
     "data": {
      "text/html": [
       "<div>\n",
       "<style scoped>\n",
       "    .dataframe tbody tr th:only-of-type {\n",
       "        vertical-align: middle;\n",
       "    }\n",
       "\n",
       "    .dataframe tbody tr th {\n",
       "        vertical-align: top;\n",
       "    }\n",
       "\n",
       "    .dataframe thead th {\n",
       "        text-align: right;\n",
       "    }\n",
       "</style>\n",
       "<table border=\"1\" class=\"dataframe\">\n",
       "  <thead>\n",
       "    <tr style=\"text-align: right;\">\n",
       "      <th></th>\n",
       "      <th>count</th>\n",
       "      <th>mean</th>\n",
       "      <th>std</th>\n",
       "      <th>min</th>\n",
       "      <th>25%</th>\n",
       "      <th>50%</th>\n",
       "      <th>75%</th>\n",
       "      <th>max</th>\n",
       "    </tr>\n",
       "    <tr>\n",
       "      <th>Region</th>\n",
       "      <th></th>\n",
       "      <th></th>\n",
       "      <th></th>\n",
       "      <th></th>\n",
       "      <th></th>\n",
       "      <th></th>\n",
       "      <th></th>\n",
       "      <th></th>\n",
       "    </tr>\n",
       "  </thead>\n",
       "  <tbody>\n",
       "    <tr>\n",
       "      <th>North Central</th>\n",
       "      <td>12.00</td>\n",
       "      <td>78.78</td>\n",
       "      <td>1.26</td>\n",
       "      <td>76.90</td>\n",
       "      <td>77.83</td>\n",
       "      <td>79.20</td>\n",
       "      <td>79.45</td>\n",
       "      <td>81.00</td>\n",
       "    </tr>\n",
       "    <tr>\n",
       "      <th>Northeast</th>\n",
       "      <td>9.00</td>\n",
       "      <td>79.91</td>\n",
       "      <td>0.99</td>\n",
       "      <td>78.30</td>\n",
       "      <td>79.50</td>\n",
       "      <td>79.90</td>\n",
       "      <td>80.50</td>\n",
       "      <td>81.30</td>\n",
       "    </tr>\n",
       "    <tr>\n",
       "      <th>South</th>\n",
       "      <td>16.00</td>\n",
       "      <td>77.09</td>\n",
       "      <td>1.75</td>\n",
       "      <td>74.80</td>\n",
       "      <td>75.78</td>\n",
       "      <td>76.55</td>\n",
       "      <td>78.58</td>\n",
       "      <td>80.00</td>\n",
       "    </tr>\n",
       "    <tr>\n",
       "      <th>West</th>\n",
       "      <td>13.00</td>\n",
       "      <td>79.76</td>\n",
       "      <td>1.22</td>\n",
       "      <td>78.10</td>\n",
       "      <td>78.80</td>\n",
       "      <td>79.80</td>\n",
       "      <td>80.40</td>\n",
       "      <td>82.30</td>\n",
       "    </tr>\n",
       "  </tbody>\n",
       "</table>\n",
       "</div>"
      ],
      "text/plain": [
       "               count  mean  std   min   25%   50%   75%   max\n",
       "Region                                                       \n",
       "North Central  12.00 78.78 1.26 76.90 77.83 79.20 79.45 81.00\n",
       "Northeast       9.00 79.91 0.99 78.30 79.50 79.90 80.50 81.30\n",
       "South          16.00 77.09 1.75 74.80 75.78 76.55 78.58 80.00\n",
       "West           13.00 79.76 1.22 78.10 78.80 79.80 80.40 82.30"
      ]
     },
     "execution_count": 28,
     "metadata": {},
     "output_type": "execute_result"
    }
   ],
   "source": [
    "# Summary statistics groupped by region\n",
    "total.groupby('Region')['LifeExp2018'].describe()"
   ]
  },
  {
   "cell_type": "code",
   "execution_count": 29,
   "id": "western-pledge",
   "metadata": {},
   "outputs": [
    {
     "data": {
      "image/png": "[encoded data removed]",
      "text/plain": [
       "<Figure size 432x288 with 1 Axes>"
      ]
     },
     "metadata": {
      "needs_background": "light"
     },
     "output_type": "display_data"
    }
   ],
   "source": [
    "# KDE plot by the region\n",
    "# kde plots of life expectancy per region\n",
    "fig, ax = plt.subplots()\n",
    "sns.kdeplot(data = total, x = \"LifeExp2018\", hue=\"Region\", shade = True )\n",
    "ax.set(title = \"Distribution of Life Expectancy 2018 by region\");"
   ]
  },
  {
   "cell_type": "code",
   "execution_count": 30,
   "id": "colored-sunrise",
   "metadata": {},
   "outputs": [
    {
     "data": {
      "image/png": "[encoded data removed]",
      "text/plain": [
       "<Figure size 432x288 with 1 Axes>"
      ]
     },
     "metadata": {
      "needs_background": "light"
     },
     "output_type": "display_data"
    }
   ],
   "source": [
    "# box plots of life expectancy per region\n",
    "fig, ax = plt.subplots(figsize=(6,4))\n",
    "sns.boxplot(x='Region',y='LifeExp2018',  data= total, ax = ax)\n",
    "ax.set(title=\"Life Expectancy by Region\", ylabel= \"Life exp\");"
   ]
  },
  {
   "cell_type": "code",
   "execution_count": 31,
   "id": "racial-customs",
   "metadata": {},
   "outputs": [
    {
     "data": {
      "image/png": "[encoded data removed]",
      "text/plain": [
       "<Figure size 432x288 with 1 Axes>"
      ]
     },
     "metadata": {
      "needs_background": "light"
     },
     "output_type": "display_data"
    }
   ],
   "source": [
    "# Stripplots of life expectancy by region\n",
    "fig, ax = plt.subplots(figsize=(6,4))\n",
    "sns.stripplot(y='LifeExp2018', x='Region',  data=total, ax=ax)\n",
    "ax.set(ylabel= \"Life Expectancy years\", xlabel= \"Region\");"
   ]
  },
  {
   "cell_type": "markdown",
   "id": "unlike-behalf",
   "metadata": {},
   "source": [
    "### 4. Data Exploration: comparing distributions of several variables"
   ]
  },
  {
   "cell_type": "code",
   "execution_count": 32,
   "id": "modern-motion",
   "metadata": {},
   "outputs": [
    {
     "data": {
      "text/html": [
       "<div>\n",
       "<style scoped>\n",
       "    .dataframe tbody tr th:only-of-type {\n",
       "        vertical-align: middle;\n",
       "    }\n",
       "\n",
       "    .dataframe tbody tr th {\n",
       "        vertical-align: top;\n",
       "    }\n",
       "\n",
       "    .dataframe thead th {\n",
       "        text-align: right;\n",
       "    }\n",
       "</style>\n",
       "<table border=\"1\" class=\"dataframe\">\n",
       "  <thead>\n",
       "    <tr style=\"text-align: right;\">\n",
       "      <th></th>\n",
       "      <th>high_school</th>\n",
       "      <th>ba_degree</th>\n",
       "      <th>adv_degree</th>\n",
       "    </tr>\n",
       "  </thead>\n",
       "  <tbody>\n",
       "    <tr>\n",
       "      <th>count</th>\n",
       "      <td>50.00</td>\n",
       "      <td>50.00</td>\n",
       "      <td>50.00</td>\n",
       "    </tr>\n",
       "    <tr>\n",
       "      <th>mean</th>\n",
       "      <td>88.51</td>\n",
       "      <td>30.11</td>\n",
       "      <td>11.26</td>\n",
       "    </tr>\n",
       "    <tr>\n",
       "      <th>std</th>\n",
       "      <td>3.49</td>\n",
       "      <td>5.06</td>\n",
       "      <td>2.70</td>\n",
       "    </tr>\n",
       "    <tr>\n",
       "      <th>min</th>\n",
       "      <td>76.70</td>\n",
       "      <td>19.90</td>\n",
       "      <td>7.80</td>\n",
       "    </tr>\n",
       "    <tr>\n",
       "      <th>25%</th>\n",
       "      <td>86.15</td>\n",
       "      <td>26.92</td>\n",
       "      <td>9.38</td>\n",
       "    </tr>\n",
       "    <tr>\n",
       "      <th>50%</th>\n",
       "      <td>89.25</td>\n",
       "      <td>29.45</td>\n",
       "      <td>10.70</td>\n",
       "    </tr>\n",
       "    <tr>\n",
       "      <th>75%</th>\n",
       "      <td>91.33</td>\n",
       "      <td>32.90</td>\n",
       "      <td>12.57</td>\n",
       "    </tr>\n",
       "    <tr>\n",
       "      <th>max</th>\n",
       "      <td>93.00</td>\n",
       "      <td>42.10</td>\n",
       "      <td>18.70</td>\n",
       "    </tr>\n",
       "  </tbody>\n",
       "</table>\n",
       "</div>"
      ],
      "text/plain": [
       "       high_school  ba_degree  adv_degree\n",
       "count        50.00      50.00       50.00\n",
       "mean         88.51      30.11       11.26\n",
       "std           3.49       5.06        2.70\n",
       "min          76.70      19.90        7.80\n",
       "25%          86.15      26.92        9.38\n",
       "50%          89.25      29.45       10.70\n",
       "75%          91.33      32.90       12.57\n",
       "max          93.00      42.10       18.70"
      ]
     },
     "execution_count": 32,
     "metadata": {},
     "output_type": "execute_result"
    }
   ],
   "source": [
    "# Basic statistics\n",
    "total[['high_school','ba_degree','adv_degree']].describe()"
   ]
  },
  {
   "cell_type": "code",
   "execution_count": 38,
   "id": "sharing-sydney",
   "metadata": {},
   "outputs": [
    {
     "name": "stderr",
     "output_type": "stream",
     "text": [
      "C:\\Users\\igord\\anaconda3\\lib\\site-packages\\seaborn\\distributions.py:2557: FutureWarning: `distplot` is a deprecated function and will be removed in a future version. Please adapt your code to use either `displot` (a figure-level function with similar flexibility) or `histplot` (an axes-level function for histograms).\n",
      "  warnings.warn(msg, FutureWarning)\n",
      "C:\\Users\\igord\\anaconda3\\lib\\site-packages\\seaborn\\distributions.py:2056: FutureWarning: The `axis` variable is no longer used and will be removed. Instead, assign variables directly to `x` or `y`.\n",
      "  warnings.warn(msg, FutureWarning)\n",
      "C:\\Users\\igord\\anaconda3\\lib\\site-packages\\seaborn\\distributions.py:2557: FutureWarning: `distplot` is a deprecated function and will be removed in a future version. Please adapt your code to use either `displot` (a figure-level function with similar flexibility) or `histplot` (an axes-level function for histograms).\n",
      "  warnings.warn(msg, FutureWarning)\n",
      "C:\\Users\\igord\\anaconda3\\lib\\site-packages\\seaborn\\distributions.py:2056: FutureWarning: The `axis` variable is no longer used and will be removed. Instead, assign variables directly to `x` or `y`.\n",
      "  warnings.warn(msg, FutureWarning)\n",
      "C:\\Users\\igord\\anaconda3\\lib\\site-packages\\seaborn\\distributions.py:2557: FutureWarning: `distplot` is a deprecated function and will be removed in a future version. Please adapt your code to use either `displot` (a figure-level function with similar flexibility) or `histplot` (an axes-level function for histograms).\n",
      "  warnings.warn(msg, FutureWarning)\n",
      "C:\\Users\\igord\\anaconda3\\lib\\site-packages\\seaborn\\distributions.py:2056: FutureWarning: The `axis` variable is no longer used and will be removed. Instead, assign variables directly to `x` or `y`.\n",
      "  warnings.warn(msg, FutureWarning)\n"
     ]
    },
    {
     "data": {
      "image/png": "[encoded data removed]",
      "text/plain": [
       "<Figure size 1224x288 with 3 Axes>"
      ]
     },
     "metadata": {
      "needs_background": "light"
     },
     "output_type": "display_data"
    }
   ],
   "source": [
    "# Distributions of high school graduates, bachelor graduates, and advanced graduates across the states\n",
    "fig, (ax0, ax1, ax2) = plt.subplots(nrows = 1,ncols = 3, sharey = True, figsize=(17, 4))\n",
    "sns.distplot(total.high_school, ax=ax0, rug=True)\n",
    "sns.distplot(total.ba_degree,ax= ax1, rug = True)\n",
    "sns.distplot(total.adv_degree, ax=ax2, rug=True)\n",
    "ax0.set(xlabel = \"high school graduates %\")\n",
    "ax0.axvline(x=total.high_school.median(), label='Median', linestyle='--', linewidth=2)\n",
    "ax0.axvline(x=total.high_school.mean(), label='Mean', linestyle='-', linewidth=2)\n",
    "ax0.legend()\n",
    "\n",
    "ax1.set(xlabel = \"bachelor degree graduates %\")\n",
    "ax1.axvline(x=total.ba_degree.median(),  label='Median', linestyle='--', linewidth=2)\n",
    "ax1.axvline(x=total.ba_degree.mean(),  label='Mean', linestyle='-', linewidth=2)\n",
    "ax1.legend()\n",
    "\n",
    "ax2.set(xlabel = \"advanced degree graduates %\")\n",
    "ax2.axvline(x=total.adv_degree.median(), label='Median', linestyle='--', linewidth=2)\n",
    "ax2.axvline(x=total.adv_degree.mean(),  label='Mean', linestyle='-', linewidth=2)\n",
    "ax2.legend()\n",
    "\n",
    "fig.suptitle(\"Distribution of education metrics\")\n",
    "plt.show()"
   ]
  },
  {
   "cell_type": "code",
   "execution_count": null,
   "id": "precious-seminar",
   "metadata": {},
   "outputs": [],
   "source": []
  }
 ],
 "metadata": {
  "kernelspec": {
   "display_name": "Python 3",
   "language": "python",
   "name": "python3"
  },
  "language_info": {
   "codemirror_mode": {
    "name": "ipython",
    "version": 3
   },
   "file_extension": ".py",
   "mimetype": "text/x-python",
   "name": "python",
   "nbconvert_exporter": "python",
   "pygments_lexer": "ipython3",
   "version": "3.8.5"
  }
 },
 "nbformat": 4,
 "nbformat_minor": 5
}
