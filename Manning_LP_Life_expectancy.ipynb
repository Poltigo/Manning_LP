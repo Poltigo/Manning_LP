{
 "cells": [
  {
   "cell_type": "markdown",
   "id": "nervous-temperature",
   "metadata": {},
   "source": [
    "## MANNING PROJECTS - Demographic Data Analysis"
   ]
  },
  {
   "cell_type": "code",
   "execution_count": 1,
   "id": "forced-advancement",
   "metadata": {},
   "outputs": [],
   "source": [
    "import pandas as pd\n",
    "import os\n",
    "import re\n",
    "import numpy as np\n",
    "pd.set_option('display.float_format', '{:.2f}'.format)"
   ]
  },
  {
   "cell_type": "markdown",
   "id": "imported-fundamental",
   "metadata": {},
   "source": [
    "## 1. Data Collection and Cleaning"
   ]
  },
  {
   "cell_type": "code",
   "execution_count": 2,
   "id": "desirable-principle",
   "metadata": {},
   "outputs": [],
   "source": [
    "folder_path = r'C:\\Users\\igord\\Projects\\Manning\\Life_exp\\csv'"
   ]
  },
  {
   "cell_type": "code",
   "execution_count": 3,
   "id": "embedded-dominican",
   "metadata": {},
   "outputs": [],
   "source": [
    "separator = '\\\\'"
   ]
  },
  {
   "cell_type": "code",
   "execution_count": 4,
   "id": "documented-discount",
   "metadata": {},
   "outputs": [],
   "source": [
    "file_list = os.listdir(folder_path)"
   ]
  },
  {
   "cell_type": "code",
   "execution_count": 5,
   "id": "difficult-credits",
   "metadata": {},
   "outputs": [
    {
     "data": {
      "text/plain": [
       "['area.csv',\n",
       " 'crime.csv',\n",
       " 'education.csv',\n",
       " 'income.xls',\n",
       " 'income.xlsx',\n",
       " 'life_expectancy.csv',\n",
       " 'region.txt']"
      ]
     },
     "execution_count": 5,
     "metadata": {},
     "output_type": "execute_result"
    }
   ],
   "source": [
    "file_list"
   ]
  },
  {
   "cell_type": "markdown",
   "id": "indonesian-parent",
   "metadata": {},
   "source": [
    "Custom service functions"
   ]
  },
  {
   "cell_type": "code",
   "execution_count": 6,
   "id": "blocked-cooperation",
   "metadata": {},
   "outputs": [],
   "source": [
    "def index_state(df):\n",
    "    df.State = [x.strip() for x in df.State]\n",
    "    df['State'] = df['State'].str.replace(' ','_')\n",
    "    df.set_index('State', inplace = True)\n",
    "    df.sort_index(inplace = True)"
   ]
  },
  {
   "cell_type": "code",
   "execution_count": 7,
   "id": "appointed-wedding",
   "metadata": {},
   "outputs": [],
   "source": [
    "def replace_coma(df):\n",
    "    for col in df.select_dtypes('object').columns:\n",
    "        df[col] = df[col].str.replace(',','')"
   ]
  },
  {
   "cell_type": "code",
   "execution_count": 8,
   "id": "compound-china",
   "metadata": {},
   "outputs": [],
   "source": [
    "def numerize(df):\n",
    "    for col in df.select_dtypes('object').columns:\n",
    "        df[col] = pd.to_numeric(df[col])"
   ]
  },
  {
   "cell_type": "markdown",
   "id": "neural-white",
   "metadata": {},
   "source": [
    "### 1.1 Area file"
   ]
  },
  {
   "cell_type": "code",
   "execution_count": 9,
   "id": "expired-understanding",
   "metadata": {},
   "outputs": [],
   "source": [
    "area = pd.read_csv(folder_path + separator + file_list[0], delimiter = ';')"
   ]
  },
  {
   "cell_type": "code",
   "execution_count": 10,
   "id": "flexible-resort",
   "metadata": {},
   "outputs": [],
   "source": [
    "index_state(area)"
   ]
  },
  {
   "cell_type": "code",
   "execution_count": 11,
   "id": "reasonable-daisy",
   "metadata": {},
   "outputs": [
    {
     "data": {
      "text/plain": [
       "(50, 11)"
      ]
     },
     "execution_count": 11,
     "metadata": {},
     "output_type": "execute_result"
    }
   ],
   "source": [
    "area.shape"
   ]
  },
  {
   "cell_type": "code",
   "execution_count": 12,
   "id": "equivalent-regard",
   "metadata": {},
   "outputs": [],
   "source": [
    "area = area.drop_duplicates()"
   ]
  },
  {
   "cell_type": "code",
   "execution_count": 13,
   "id": "legendary-absorption",
   "metadata": {},
   "outputs": [
    {
     "data": {
      "text/plain": [
       "TotalRank    0\n",
       "TotalSqMi    0\n",
       "TotalKmQ     0\n",
       "LandRank     0\n",
       "LandSqMi     0\n",
       "LandKmQ      0\n",
       "LandPer      0\n",
       "WaterRank    0\n",
       "WaterSqMi    0\n",
       "WaterKmQ     0\n",
       "WaterPer     0\n",
       "dtype: int64"
      ]
     },
     "execution_count": 13,
     "metadata": {},
     "output_type": "execute_result"
    }
   ],
   "source": [
    "area.isnull().sum()"
   ]
  },
  {
   "cell_type": "code",
   "execution_count": 14,
   "id": "latin-exchange",
   "metadata": {},
   "outputs": [
    {
     "data": {
      "text/plain": [
       "TotalRank      int64\n",
       "TotalSqMi    float64\n",
       "TotalKmQ       int64\n",
       "LandRank       int64\n",
       "LandSqMi     float64\n",
       "LandKmQ        int64\n",
       "LandPer      float64\n",
       "WaterRank      int64\n",
       "WaterSqMi    float64\n",
       "WaterKmQ       int64\n",
       "WaterPer     float64\n",
       "dtype: object"
      ]
     },
     "execution_count": 14,
     "metadata": {},
     "output_type": "execute_result"
    }
   ],
   "source": [
    "area.dtypes"
   ]
  },
  {
   "cell_type": "code",
   "execution_count": 15,
   "id": "taken-methodology",
   "metadata": {},
   "outputs": [
    {
     "data": {
      "text/html": [
       "<div>\n",
       "<style scoped>\n",
       "    .dataframe tbody tr th:only-of-type {\n",
       "        vertical-align: middle;\n",
       "    }\n",
       "\n",
       "    .dataframe tbody tr th {\n",
       "        vertical-align: top;\n",
       "    }\n",
       "\n",
       "    .dataframe thead th {\n",
       "        text-align: right;\n",
       "    }\n",
       "</style>\n",
       "<table border=\"1\" class=\"dataframe\">\n",
       "  <thead>\n",
       "    <tr style=\"text-align: right;\">\n",
       "      <th></th>\n",
       "      <th>TotalRank</th>\n",
       "      <th>TotalSqMi</th>\n",
       "      <th>TotalKmQ</th>\n",
       "      <th>LandRank</th>\n",
       "      <th>LandSqMi</th>\n",
       "      <th>LandKmQ</th>\n",
       "      <th>LandPer</th>\n",
       "      <th>WaterRank</th>\n",
       "      <th>WaterSqMi</th>\n",
       "      <th>WaterKmQ</th>\n",
       "      <th>WaterPer</th>\n",
       "    </tr>\n",
       "    <tr>\n",
       "      <th>State</th>\n",
       "      <th></th>\n",
       "      <th></th>\n",
       "      <th></th>\n",
       "      <th></th>\n",
       "      <th></th>\n",
       "      <th></th>\n",
       "      <th></th>\n",
       "      <th></th>\n",
       "      <th></th>\n",
       "      <th></th>\n",
       "      <th></th>\n",
       "    </tr>\n",
       "  </thead>\n",
       "  <tbody>\n",
       "    <tr>\n",
       "      <th>Alabama</th>\n",
       "      <td>30</td>\n",
       "      <td>52420.07</td>\n",
       "      <td>135767</td>\n",
       "      <td>28</td>\n",
       "      <td>50645.33</td>\n",
       "      <td>131171</td>\n",
       "      <td>96.61</td>\n",
       "      <td>23</td>\n",
       "      <td>1774.74</td>\n",
       "      <td>4597</td>\n",
       "      <td>3.39</td>\n",
       "    </tr>\n",
       "    <tr>\n",
       "      <th>Alaska</th>\n",
       "      <td>1</td>\n",
       "      <td>665384.04</td>\n",
       "      <td>1723337</td>\n",
       "      <td>1</td>\n",
       "      <td>570640.95</td>\n",
       "      <td>1477953</td>\n",
       "      <td>85.76</td>\n",
       "      <td>1</td>\n",
       "      <td>94743.10</td>\n",
       "      <td>245384</td>\n",
       "      <td>14.24</td>\n",
       "    </tr>\n",
       "  </tbody>\n",
       "</table>\n",
       "</div>"
      ],
      "text/plain": [
       "         TotalRank  TotalSqMi  TotalKmQ  LandRank  LandSqMi  LandKmQ  LandPer  \\\n",
       "State                                                                           \n",
       "Alabama         30   52420.07    135767        28  50645.33   131171    96.61   \n",
       "Alaska           1  665384.04   1723337         1 570640.95  1477953    85.76   \n",
       "\n",
       "         WaterRank  WaterSqMi  WaterKmQ  WaterPer  \n",
       "State                                              \n",
       "Alabama         23    1774.74      4597      3.39  \n",
       "Alaska           1   94743.10    245384     14.24  "
      ]
     },
     "execution_count": 15,
     "metadata": {},
     "output_type": "execute_result"
    }
   ],
   "source": [
    "area.head(2)"
   ]
  },
  {
   "cell_type": "markdown",
   "id": "separated-integral",
   "metadata": {},
   "source": [
    "### 1.2 Crime file"
   ]
  },
  {
   "cell_type": "code",
   "execution_count": 16,
   "id": "alternate-memphis",
   "metadata": {},
   "outputs": [],
   "source": [
    "crime = pd.read_csv(folder_path + separator + file_list[1], delimiter = ';')"
   ]
  },
  {
   "cell_type": "code",
   "execution_count": 17,
   "id": "paperback-interpretation",
   "metadata": {},
   "outputs": [],
   "source": [
    "# removing rows with junk data in states\n",
    "crime.set_index('State', inplace = True)\n",
    "states = [x for x in crime.index if len(x) >= 4]\n",
    "crime = crime.loc[states]"
   ]
  },
  {
   "cell_type": "code",
   "execution_count": 18,
   "id": "therapeutic-joseph",
   "metadata": {},
   "outputs": [],
   "source": [
    "crime = crime.iloc[:-1]"
   ]
  },
  {
   "cell_type": "code",
   "execution_count": 19,
   "id": "spiritual-standard",
   "metadata": {},
   "outputs": [
    {
     "data": {
      "text/plain": [
       "Index(['Population\\n(total inhabitants) \\n(2015) [2]',\n",
       "       'Murders and\\nNonnegligent\\nManslaughter\\n(total deaths) \\n(2015) [1]',\n",
       "       'Murders\\n(total deaths) \\n(2015) [3]',\n",
       "       'Gun Murders\\n(total deaths) \\n(2015) [3]',\n",
       "       'Gun\\nOwnership\\n(%) \\n(2013) [4]',\n",
       "       'Murder and\\nNonnegligent\\nManslaughter\\nRate\\n(per 100,000) \\n(2015)',\n",
       "       'Murder Rate\\n(per 100,000) \\n(2015)',\n",
       "       'Gun\\nMurder Rate\\n(per 100,000) \\n(2015)'],\n",
       "      dtype='object')"
      ]
     },
     "execution_count": 19,
     "metadata": {},
     "output_type": "execute_result"
    }
   ],
   "source": [
    "crime.columns"
   ]
  },
  {
   "cell_type": "code",
   "execution_count": 20,
   "id": "flying-documentary",
   "metadata": {},
   "outputs": [],
   "source": [
    "crime.columns = ['Population_total', 'Murders_and_Manslaughter', 'Murders',\n",
    "                 'Gun_Murders', 'Gun_Ownership', 'Murder_and_manslaughter_rate',\n",
    "                'Murder_rate', 'Gun_Murder_rate']"
   ]
  },
  {
   "cell_type": "code",
   "execution_count": 21,
   "id": "crazy-veteran",
   "metadata": {},
   "outputs": [],
   "source": [
    "replace_coma(crime)"
   ]
  },
  {
   "cell_type": "code",
   "execution_count": 22,
   "id": "bottom-industry",
   "metadata": {},
   "outputs": [],
   "source": [
    "crime.loc['Illinois','Population_total'] = crime.loc['Illinois','Population_total'].replace('[5]','')"
   ]
  },
  {
   "cell_type": "code",
   "execution_count": 23,
   "id": "engaging-trailer",
   "metadata": {},
   "outputs": [
    {
     "name": "stderr",
     "output_type": "stream",
     "text": [
      "<ipython-input-23-b10c94921207>:2: SettingWithCopyWarning: \n",
      "A value is trying to be set on a copy of a slice from a DataFrame\n",
      "\n",
      "See the caveats in the documentation: https://pandas.pydata.org/pandas-docs/stable/user_guide/indexing.html#returning-a-view-versus-a-copy\n",
      "  crime[col][~crime[col].str.match('(\\d+)')]  = np.nan\n"
     ]
    }
   ],
   "source": [
    "for col in crime.select_dtypes('object').columns:\n",
    "    crime[col][~crime[col].str.match('(\\d+)')]  = np.nan"
   ]
  },
  {
   "cell_type": "code",
   "execution_count": 24,
   "id": "coastal-distinction",
   "metadata": {},
   "outputs": [
    {
     "data": {
      "text/plain": [
       "Population_total                 object\n",
       "Murders_and_Manslaughter         object\n",
       "Murders                          object\n",
       "Gun_Murders                      object\n",
       "Gun_Ownership                   float64\n",
       "Murder_and_manslaughter_rate    float64\n",
       "Murder_rate                      object\n",
       "Gun_Murder_rate                  object\n",
       "dtype: object"
      ]
     },
     "execution_count": 24,
     "metadata": {},
     "output_type": "execute_result"
    }
   ],
   "source": [
    "crime.dtypes"
   ]
  },
  {
   "cell_type": "code",
   "execution_count": 25,
   "id": "filled-control",
   "metadata": {},
   "outputs": [],
   "source": [
    "numerize(crime)"
   ]
  },
  {
   "cell_type": "code",
   "execution_count": 26,
   "id": "imperial-senegal",
   "metadata": {},
   "outputs": [
    {
     "data": {
      "text/plain": [
       "Population_total                  int64\n",
       "Murders_and_Manslaughter          int64\n",
       "Murders                         float64\n",
       "Gun_Murders                     float64\n",
       "Gun_Ownership                   float64\n",
       "Murder_and_manslaughter_rate    float64\n",
       "Murder_rate                     float64\n",
       "Gun_Murder_rate                 float64\n",
       "dtype: object"
      ]
     },
     "execution_count": 26,
     "metadata": {},
     "output_type": "execute_result"
    }
   ],
   "source": [
    "crime.dtypes"
   ]
  },
  {
   "cell_type": "code",
   "execution_count": 27,
   "id": "innocent-prevention",
   "metadata": {},
   "outputs": [
    {
     "data": {
      "text/html": [
       "<div>\n",
       "<style scoped>\n",
       "    .dataframe tbody tr th:only-of-type {\n",
       "        vertical-align: middle;\n",
       "    }\n",
       "\n",
       "    .dataframe tbody tr th {\n",
       "        vertical-align: top;\n",
       "    }\n",
       "\n",
       "    .dataframe thead th {\n",
       "        text-align: right;\n",
       "    }\n",
       "</style>\n",
       "<table border=\"1\" class=\"dataframe\">\n",
       "  <thead>\n",
       "    <tr style=\"text-align: right;\">\n",
       "      <th></th>\n",
       "      <th>Population_total</th>\n",
       "      <th>Murders_and_Manslaughter</th>\n",
       "      <th>Murders</th>\n",
       "      <th>Gun_Murders</th>\n",
       "      <th>Gun_Ownership</th>\n",
       "      <th>Murder_and_manslaughter_rate</th>\n",
       "      <th>Murder_rate</th>\n",
       "      <th>Gun_Murder_rate</th>\n",
       "    </tr>\n",
       "    <tr>\n",
       "      <th>State</th>\n",
       "      <th></th>\n",
       "      <th></th>\n",
       "      <th></th>\n",
       "      <th></th>\n",
       "      <th></th>\n",
       "      <th></th>\n",
       "      <th></th>\n",
       "      <th></th>\n",
       "    </tr>\n",
       "  </thead>\n",
       "  <tbody>\n",
       "    <tr>\n",
       "      <th>Alabama</th>\n",
       "      <td>4853875</td>\n",
       "      <td>348</td>\n",
       "      <td>NaN</td>\n",
       "      <td>NaN</td>\n",
       "      <td>48.90</td>\n",
       "      <td>7.20</td>\n",
       "      <td>NaN</td>\n",
       "      <td>NaN</td>\n",
       "    </tr>\n",
       "    <tr>\n",
       "      <th>Alaska</th>\n",
       "      <td>737709</td>\n",
       "      <td>59</td>\n",
       "      <td>57.00</td>\n",
       "      <td>39.00</td>\n",
       "      <td>61.70</td>\n",
       "      <td>8.00</td>\n",
       "      <td>7.70</td>\n",
       "      <td>5.30</td>\n",
       "    </tr>\n",
       "  </tbody>\n",
       "</table>\n",
       "</div>"
      ],
      "text/plain": [
       "         Population_total  Murders_and_Manslaughter  Murders  Gun_Murders  \\\n",
       "State                                                                       \n",
       "Alabama           4853875                       348      NaN          NaN   \n",
       "Alaska             737709                        59    57.00        39.00   \n",
       "\n",
       "         Gun_Ownership  Murder_and_manslaughter_rate  Murder_rate  \\\n",
       "State                                                               \n",
       "Alabama          48.90                          7.20          NaN   \n",
       "Alaska           61.70                          8.00         7.70   \n",
       "\n",
       "         Gun_Murder_rate  \n",
       "State                     \n",
       "Alabama              NaN  \n",
       "Alaska              5.30  "
      ]
     },
     "execution_count": 27,
     "metadata": {},
     "output_type": "execute_result"
    }
   ],
   "source": [
    "crime.head(2)"
   ]
  },
  {
   "cell_type": "markdown",
   "id": "neutral-police",
   "metadata": {},
   "source": [
    "### 1.3 Education file"
   ]
  },
  {
   "cell_type": "code",
   "execution_count": 28,
   "id": "interstate-brunei",
   "metadata": {},
   "outputs": [],
   "source": [
    "edu = pd.read_csv(folder_path + separator + file_list[2], delimiter = ';', header = 1)"
   ]
  },
  {
   "cell_type": "code",
   "execution_count": 29,
   "id": "closing-algeria",
   "metadata": {},
   "outputs": [],
   "source": [
    "edu.columns = ['State', 'high_school', 'high_school_rank', 'ba_degree', 'ba_rank', 'adv_degree', 'adv_rank']"
   ]
  },
  {
   "cell_type": "code",
   "execution_count": 30,
   "id": "adjacent-problem",
   "metadata": {},
   "outputs": [],
   "source": [
    "index_state(edu)"
   ]
  },
  {
   "cell_type": "code",
   "execution_count": 31,
   "id": "domestic-nursery",
   "metadata": {},
   "outputs": [],
   "source": [
    "edu.drop(index = 'United_States', inplace = True)"
   ]
  },
  {
   "cell_type": "code",
   "execution_count": 32,
   "id": "satisfactory-proportion",
   "metadata": {},
   "outputs": [
    {
     "data": {
      "text/plain": [
       "high_school          object\n",
       "high_school_rank    float64\n",
       "ba_degree            object\n",
       "ba_rank             float64\n",
       "adv_degree           object\n",
       "adv_rank            float64\n",
       "dtype: object"
      ]
     },
     "execution_count": 32,
     "metadata": {},
     "output_type": "execute_result"
    }
   ],
   "source": [
    "edu.dtypes"
   ]
  },
  {
   "cell_type": "code",
   "execution_count": 33,
   "id": "sharp-parliament",
   "metadata": {},
   "outputs": [],
   "source": [
    "for col in edu.select_dtypes('object').columns:\n",
    "    edu[col] = edu[col].str.replace('%','')"
   ]
  },
  {
   "cell_type": "code",
   "execution_count": 34,
   "id": "comparative-style",
   "metadata": {},
   "outputs": [],
   "source": [
    "numerize(edu)"
   ]
  },
  {
   "cell_type": "code",
   "execution_count": 35,
   "id": "conscious-threat",
   "metadata": {},
   "outputs": [
    {
     "data": {
      "text/plain": [
       "high_school         float64\n",
       "high_school_rank    float64\n",
       "ba_degree           float64\n",
       "ba_rank             float64\n",
       "adv_degree          float64\n",
       "adv_rank            float64\n",
       "dtype: object"
      ]
     },
     "execution_count": 35,
     "metadata": {},
     "output_type": "execute_result"
    }
   ],
   "source": [
    "edu.dtypes"
   ]
  },
  {
   "cell_type": "code",
   "execution_count": 36,
   "id": "round-assignment",
   "metadata": {},
   "outputs": [
    {
     "data": {
      "text/html": [
       "<div>\n",
       "<style scoped>\n",
       "    .dataframe tbody tr th:only-of-type {\n",
       "        vertical-align: middle;\n",
       "    }\n",
       "\n",
       "    .dataframe tbody tr th {\n",
       "        vertical-align: top;\n",
       "    }\n",
       "\n",
       "    .dataframe thead th {\n",
       "        text-align: right;\n",
       "    }\n",
       "</style>\n",
       "<table border=\"1\" class=\"dataframe\">\n",
       "  <thead>\n",
       "    <tr style=\"text-align: right;\">\n",
       "      <th></th>\n",
       "      <th>high_school</th>\n",
       "      <th>high_school_rank</th>\n",
       "      <th>ba_degree</th>\n",
       "      <th>ba_rank</th>\n",
       "      <th>adv_degree</th>\n",
       "      <th>adv_rank</th>\n",
       "    </tr>\n",
       "    <tr>\n",
       "      <th>State</th>\n",
       "      <th></th>\n",
       "      <th></th>\n",
       "      <th></th>\n",
       "      <th></th>\n",
       "      <th></th>\n",
       "      <th></th>\n",
       "    </tr>\n",
       "  </thead>\n",
       "  <tbody>\n",
       "    <tr>\n",
       "      <th>Alabama</th>\n",
       "      <td>85.30</td>\n",
       "      <td>44.00</td>\n",
       "      <td>24.50</td>\n",
       "      <td>45.00</td>\n",
       "      <td>9.10</td>\n",
       "      <td>41.00</td>\n",
       "    </tr>\n",
       "    <tr>\n",
       "      <th>Alaska</th>\n",
       "      <td>92.40</td>\n",
       "      <td>5.00</td>\n",
       "      <td>29.00</td>\n",
       "      <td>28.00</td>\n",
       "      <td>10.40</td>\n",
       "      <td>29.00</td>\n",
       "    </tr>\n",
       "  </tbody>\n",
       "</table>\n",
       "</div>"
      ],
      "text/plain": [
       "         high_school  high_school_rank  ba_degree  ba_rank  adv_degree  \\\n",
       "State                                                                    \n",
       "Alabama        85.30             44.00      24.50    45.00        9.10   \n",
       "Alaska         92.40              5.00      29.00    28.00       10.40   \n",
       "\n",
       "         adv_rank  \n",
       "State              \n",
       "Alabama     41.00  \n",
       "Alaska      29.00  "
      ]
     },
     "execution_count": 36,
     "metadata": {},
     "output_type": "execute_result"
    }
   ],
   "source": [
    "edu.head(2)"
   ]
  },
  {
   "cell_type": "markdown",
   "id": "indoor-china",
   "metadata": {},
   "source": [
    "### 1.4 Income xlsx file"
   ]
  },
  {
   "cell_type": "code",
   "execution_count": 37,
   "id": "inner-taylor",
   "metadata": {},
   "outputs": [],
   "source": [
    "income = pd.read_excel(folder_path + separator + file_list[4], header = 1)"
   ]
  },
  {
   "cell_type": "code",
   "execution_count": 38,
   "id": "extra-double",
   "metadata": {},
   "outputs": [],
   "source": [
    "income.drop(columns = 'Rank', inplace = True)"
   ]
  },
  {
   "cell_type": "code",
   "execution_count": 39,
   "id": "considerable-spectacular",
   "metadata": {},
   "outputs": [],
   "source": [
    "index_state(income)"
   ]
  },
  {
   "cell_type": "code",
   "execution_count": 40,
   "id": "functioning-watershed",
   "metadata": {},
   "outputs": [
    {
     "data": {
      "text/plain": [
       "Income2017    int64\n",
       "Income2016    int64\n",
       "Income2015    int64\n",
       "Income2014    int64\n",
       "Income2013    int64\n",
       "Income2012    int64\n",
       "Income2011    int64\n",
       "Income2010    int64\n",
       "Income2009    int64\n",
       "Income2008    int64\n",
       "Income2007    int64\n",
       "dtype: object"
      ]
     },
     "execution_count": 40,
     "metadata": {},
     "output_type": "execute_result"
    }
   ],
   "source": [
    "income.dtypes"
   ]
  },
  {
   "cell_type": "code",
   "execution_count": 41,
   "id": "endangered-model",
   "metadata": {},
   "outputs": [
    {
     "data": {
      "text/html": [
       "<div>\n",
       "<style scoped>\n",
       "    .dataframe tbody tr th:only-of-type {\n",
       "        vertical-align: middle;\n",
       "    }\n",
       "\n",
       "    .dataframe tbody tr th {\n",
       "        vertical-align: top;\n",
       "    }\n",
       "\n",
       "    .dataframe thead th {\n",
       "        text-align: right;\n",
       "    }\n",
       "</style>\n",
       "<table border=\"1\" class=\"dataframe\">\n",
       "  <thead>\n",
       "    <tr style=\"text-align: right;\">\n",
       "      <th></th>\n",
       "      <th>Income2017</th>\n",
       "      <th>Income2016</th>\n",
       "      <th>Income2015</th>\n",
       "      <th>Income2014</th>\n",
       "      <th>Income2013</th>\n",
       "      <th>Income2012</th>\n",
       "      <th>Income2011</th>\n",
       "      <th>Income2010</th>\n",
       "      <th>Income2009</th>\n",
       "      <th>Income2008</th>\n",
       "      <th>Income2007</th>\n",
       "    </tr>\n",
       "    <tr>\n",
       "      <th>State</th>\n",
       "      <th></th>\n",
       "      <th></th>\n",
       "      <th></th>\n",
       "      <th></th>\n",
       "      <th></th>\n",
       "      <th></th>\n",
       "      <th></th>\n",
       "      <th></th>\n",
       "      <th></th>\n",
       "      <th></th>\n",
       "      <th></th>\n",
       "    </tr>\n",
       "  </thead>\n",
       "  <tbody>\n",
       "    <tr>\n",
       "      <th>Alabama</th>\n",
       "      <td>48123</td>\n",
       "      <td>46257</td>\n",
       "      <td>44765</td>\n",
       "      <td>42830</td>\n",
       "      <td>42849</td>\n",
       "      <td>41574</td>\n",
       "      <td>41415</td>\n",
       "      <td>40474</td>\n",
       "      <td>40489</td>\n",
       "      <td>42666</td>\n",
       "      <td>40554</td>\n",
       "    </tr>\n",
       "    <tr>\n",
       "      <th>Alaska</th>\n",
       "      <td>73181</td>\n",
       "      <td>76440</td>\n",
       "      <td>73355</td>\n",
       "      <td>71583</td>\n",
       "      <td>72237</td>\n",
       "      <td>67712</td>\n",
       "      <td>67825</td>\n",
       "      <td>64576</td>\n",
       "      <td>66953</td>\n",
       "      <td>68460</td>\n",
       "      <td>64333</td>\n",
       "    </tr>\n",
       "  </tbody>\n",
       "</table>\n",
       "</div>"
      ],
      "text/plain": [
       "         Income2017  Income2016  Income2015  Income2014  Income2013  \\\n",
       "State                                                                 \n",
       "Alabama       48123       46257       44765       42830       42849   \n",
       "Alaska        73181       76440       73355       71583       72237   \n",
       "\n",
       "         Income2012  Income2011  Income2010  Income2009  Income2008  \\\n",
       "State                                                                 \n",
       "Alabama       41574       41415       40474       40489       42666   \n",
       "Alaska        67712       67825       64576       66953       68460   \n",
       "\n",
       "         Income2007  \n",
       "State                \n",
       "Alabama       40554  \n",
       "Alaska        64333  "
      ]
     },
     "execution_count": 41,
     "metadata": {},
     "output_type": "execute_result"
    }
   ],
   "source": [
    "income.head(2)"
   ]
  },
  {
   "cell_type": "markdown",
   "id": "entire-brain",
   "metadata": {},
   "source": [
    "### 1.5 Life expectancy"
   ]
  },
  {
   "cell_type": "code",
   "execution_count": 42,
   "id": "commercial-philippines",
   "metadata": {},
   "outputs": [],
   "source": [
    "life = pd.read_csv(folder_path + separator + file_list[5], delimiter = ';')"
   ]
  },
  {
   "cell_type": "code",
   "execution_count": 43,
   "id": "automated-trademark",
   "metadata": {},
   "outputs": [],
   "source": [
    "index_state(life)"
   ]
  },
  {
   "cell_type": "code",
   "execution_count": 44,
   "id": "removable-riding",
   "metadata": {},
   "outputs": [],
   "source": [
    "life.drop(index = 'United_States', inplace = True)"
   ]
  },
  {
   "cell_type": "code",
   "execution_count": 45,
   "id": "saving-cream",
   "metadata": {},
   "outputs": [],
   "source": [
    "numerize(life)"
   ]
  },
  {
   "cell_type": "code",
   "execution_count": 46,
   "id": "treated-moses",
   "metadata": {},
   "outputs": [
    {
     "data": {
      "text/plain": [
       "LifeExp2018    float64\n",
       "LifeExp2010    float64\n",
       "MaleLifeExp    float64\n",
       "FemLifeExp     float64\n",
       "dtype: object"
      ]
     },
     "execution_count": 46,
     "metadata": {},
     "output_type": "execute_result"
    }
   ],
   "source": [
    "life.dtypes"
   ]
  },
  {
   "cell_type": "code",
   "execution_count": 47,
   "id": "prerequisite-speech",
   "metadata": {},
   "outputs": [
    {
     "data": {
      "text/html": [
       "<div>\n",
       "<style scoped>\n",
       "    .dataframe tbody tr th:only-of-type {\n",
       "        vertical-align: middle;\n",
       "    }\n",
       "\n",
       "    .dataframe tbody tr th {\n",
       "        vertical-align: top;\n",
       "    }\n",
       "\n",
       "    .dataframe thead th {\n",
       "        text-align: right;\n",
       "    }\n",
       "</style>\n",
       "<table border=\"1\" class=\"dataframe\">\n",
       "  <thead>\n",
       "    <tr style=\"text-align: right;\">\n",
       "      <th></th>\n",
       "      <th>LifeExp2018</th>\n",
       "      <th>LifeExp2010</th>\n",
       "      <th>MaleLifeExp</th>\n",
       "      <th>FemLifeExp</th>\n",
       "    </tr>\n",
       "    <tr>\n",
       "      <th>State</th>\n",
       "      <th></th>\n",
       "      <th></th>\n",
       "      <th></th>\n",
       "      <th></th>\n",
       "    </tr>\n",
       "  </thead>\n",
       "  <tbody>\n",
       "    <tr>\n",
       "      <th>Alabama</th>\n",
       "      <td>75.40</td>\n",
       "      <td>75.40</td>\n",
       "      <td>72.60</td>\n",
       "      <td>78.10</td>\n",
       "    </tr>\n",
       "    <tr>\n",
       "      <th>Alaska</th>\n",
       "      <td>78.80</td>\n",
       "      <td>78.00</td>\n",
       "      <td>76.70</td>\n",
       "      <td>81.20</td>\n",
       "    </tr>\n",
       "  </tbody>\n",
       "</table>\n",
       "</div>"
      ],
      "text/plain": [
       "         LifeExp2018  LifeExp2010  MaleLifeExp  FemLifeExp\n",
       "State                                                     \n",
       "Alabama        75.40        75.40        72.60       78.10\n",
       "Alaska         78.80        78.00        76.70       81.20"
      ]
     },
     "execution_count": 47,
     "metadata": {},
     "output_type": "execute_result"
    }
   ],
   "source": [
    "life.head(2)"
   ]
  },
  {
   "cell_type": "markdown",
   "id": "alone-afghanistan",
   "metadata": {},
   "source": [
    "### 1.6 Religion"
   ]
  },
  {
   "cell_type": "code",
   "execution_count": 48,
   "id": "educated-apollo",
   "metadata": {},
   "outputs": [],
   "source": [
    "region = pd.read_csv(folder_path + separator + file_list[6], delimiter = '\\t')"
   ]
  },
  {
   "cell_type": "code",
   "execution_count": 49,
   "id": "graphic-healthcare",
   "metadata": {},
   "outputs": [],
   "source": [
    "region.columns = ['State','Abb','Region','Division']"
   ]
  },
  {
   "cell_type": "code",
   "execution_count": 50,
   "id": "verbal-level",
   "metadata": {},
   "outputs": [
    {
     "data": {
      "text/plain": [
       "Mountain              8\n",
       "South Atlantic        7\n",
       "West North Central    7\n",
       "New England           6\n",
       "Pacific               5\n",
       "East North Central    5\n",
       "East South Central    4\n",
       "West South Central    3\n",
       "Middle Atlantic       3\n",
       "west south central    1\n",
       "south atlantic        1\n",
       "Name: Division, dtype: int64"
      ]
     },
     "execution_count": 50,
     "metadata": {},
     "output_type": "execute_result"
    }
   ],
   "source": [
    "region.Division.value_counts()"
   ]
  },
  {
   "cell_type": "code",
   "execution_count": 51,
   "id": "perfect-volleyball",
   "metadata": {},
   "outputs": [
    {
     "data": {
      "text/plain": [
       "South Atlantic        8\n",
       "Mountain              8\n",
       "West North Central    7\n",
       "New England           6\n",
       "Pacific               5\n",
       "East North Central    5\n",
       "East South Central    4\n",
       "West South Central    4\n",
       "Middle Atlantic       3\n",
       "Name: Division, dtype: int64"
      ]
     },
     "execution_count": 51,
     "metadata": {},
     "output_type": "execute_result"
    }
   ],
   "source": [
    "region.Division = region.Division.str.title()\n",
    "region.Division.value_counts()"
   ]
  },
  {
   "cell_type": "code",
   "execution_count": 52,
   "id": "crazy-rubber",
   "metadata": {},
   "outputs": [],
   "source": [
    "index_state(region)"
   ]
  },
  {
   "cell_type": "code",
   "execution_count": 53,
   "id": "sudden-headset",
   "metadata": {},
   "outputs": [
    {
     "data": {
      "text/html": [
       "<div>\n",
       "<style scoped>\n",
       "    .dataframe tbody tr th:only-of-type {\n",
       "        vertical-align: middle;\n",
       "    }\n",
       "\n",
       "    .dataframe tbody tr th {\n",
       "        vertical-align: top;\n",
       "    }\n",
       "\n",
       "    .dataframe thead th {\n",
       "        text-align: right;\n",
       "    }\n",
       "</style>\n",
       "<table border=\"1\" class=\"dataframe\">\n",
       "  <thead>\n",
       "    <tr style=\"text-align: right;\">\n",
       "      <th></th>\n",
       "      <th>Abb</th>\n",
       "      <th>Region</th>\n",
       "      <th>Division</th>\n",
       "    </tr>\n",
       "    <tr>\n",
       "      <th>State</th>\n",
       "      <th></th>\n",
       "      <th></th>\n",
       "      <th></th>\n",
       "    </tr>\n",
       "  </thead>\n",
       "  <tbody>\n",
       "    <tr>\n",
       "      <th>Alabama</th>\n",
       "      <td>AL</td>\n",
       "      <td>South</td>\n",
       "      <td>East South Central</td>\n",
       "    </tr>\n",
       "    <tr>\n",
       "      <th>Alaska</th>\n",
       "      <td>AK</td>\n",
       "      <td>West</td>\n",
       "      <td>Pacific</td>\n",
       "    </tr>\n",
       "  </tbody>\n",
       "</table>\n",
       "</div>"
      ],
      "text/plain": [
       "        Abb Region            Division\n",
       "State                                 \n",
       "Alabama  AL  South  East South Central\n",
       "Alaska   AK   West             Pacific"
      ]
     },
     "execution_count": 53,
     "metadata": {},
     "output_type": "execute_result"
    }
   ],
   "source": [
    "region.head(2)"
   ]
  },
  {
   "cell_type": "markdown",
   "id": "selective-defense",
   "metadata": {},
   "source": [
    "## 2. Data completness analysis"
   ]
  },
  {
   "cell_type": "code",
   "execution_count": 54,
   "id": "reliable-measure",
   "metadata": {},
   "outputs": [],
   "source": [
    "dataframes = [area, crime, edu, income, life, region]\n",
    "datanames = ['Area', 'Crime', 'Edu', 'Income', 'Life_Exp', 'Region']"
   ]
  },
  {
   "cell_type": "code",
   "execution_count": 55,
   "id": "statewide-consultation",
   "metadata": {},
   "outputs": [],
   "source": [
    "for i, df in enumerate(dataframes):\n",
    "    dataframes[i].name = datanames[i]"
   ]
  },
  {
   "cell_type": "code",
   "execution_count": 56,
   "id": "demanding-parish",
   "metadata": {},
   "outputs": [
    {
     "name": "stdout",
     "output_type": "stream",
     "text": [
      "Area\n",
      "TotalRank    0\n",
      "TotalSqMi    0\n",
      "TotalKmQ     0\n",
      "LandRank     0\n",
      "LandSqMi     0\n",
      "LandKmQ      0\n",
      "LandPer      0\n",
      "WaterRank    0\n",
      "WaterSqMi    0\n",
      "WaterKmQ     0\n",
      "WaterPer     0\n",
      "dtype: int64\n",
      "       TotalRank  TotalSqMi   TotalKmQ  LandRank  LandSqMi    LandKmQ  \\\n",
      "count      50.00      50.00      50.00     50.00     50.00      50.00   \n",
      "mean       25.50   75933.48  196666.84     25.50  70636.89  182948.72   \n",
      "std        14.58   97327.42  252076.91     14.58  85815.68  222261.52   \n",
      "min         1.00    1544.89    4001.00      1.00   1033.81    2678.00   \n",
      "25%        13.25   37416.61   96908.50     13.25  36741.17   95159.00   \n",
      "50%        25.50   57093.18  147870.50     25.50  53891.28  139577.50   \n",
      "75%        37.75   84564.90  219022.25     37.75  81225.73  210373.50   \n",
      "max        50.00  665384.04 1723337.00     50.00 570640.95 1477953.00   \n",
      "\n",
      "       LandPer  WaterRank  WaterSqMi  WaterKmQ  WaterPer  \n",
      "count    50.00      50.00      50.00     50.00     50.00  \n",
      "mean     91.67      25.50    5296.59  13718.16      8.33  \n",
      "std      10.24      14.58   14256.07  36923.11     10.24  \n",
      "min      58.46       1.00     191.83    497.00      0.24  \n",
      "25%      87.22      13.25     705.76   1828.00      1.65  \n",
      "50%      96.69      25.50    1501.21   3888.00      3.31  \n",
      "75%      98.36      37.75    4373.04  11325.75     12.78  \n",
      "max      99.76      50.00   94743.10 245384.00     41.54  \n",
      "-------------------\n",
      "Crime\n",
      "Population_total                0\n",
      "Murders_and_Manslaughter        0\n",
      "Murders                         2\n",
      "Gun_Murders                     2\n",
      "Gun_Ownership                   0\n",
      "Murder_and_manslaughter_rate    0\n",
      "Murder_rate                     2\n",
      "Gun_Murder_rate                 2\n",
      "dtype: int64\n",
      "       Population_total  Murders_and_Manslaughter  Murders  Gun_Murders  \\\n",
      "count             51.00                     51.00    49.00        49.00   \n",
      "mean         6292492.51                    307.71   273.69       195.59   \n",
      "std          7181993.08                    353.33   335.08       239.27   \n",
      "min           586107.00                     10.00    10.00         4.00   \n",
      "25%          1746940.50                     62.50    57.00        34.00   \n",
      "50%          4424611.00                    181.00   164.00       115.00   \n",
      "75%          6988927.50                    443.50   394.00       297.00   \n",
      "max         38993940.00                   1861.00  1861.00      1275.00   \n",
      "\n",
      "       Gun_Ownership  Murder_and_manslaughter_rate  Murder_rate  \\\n",
      "count          51.00                         51.00        49.00   \n",
      "mean           32.95                          4.95         4.57   \n",
      "std            13.44                          3.50         3.48   \n",
      "min             5.20                          1.10         1.10   \n",
      "25%            26.05                          2.85         2.70   \n",
      "50%            32.20                          4.50         4.10   \n",
      "75%            42.60                          6.00         5.50   \n",
      "max            61.70                         24.20        24.20   \n",
      "\n",
      "       Gun_Murder_rate  \n",
      "count            49.00  \n",
      "mean              3.21  \n",
      "std               2.73  \n",
      "min               0.30  \n",
      "25%               1.60  \n",
      "50%               2.90  \n",
      "75%               3.90  \n",
      "max              18.00  \n",
      "-------------------\n",
      "Edu\n",
      "high_school         0\n",
      "high_school_rank    0\n",
      "ba_degree           0\n",
      "ba_rank             0\n",
      "adv_degree          0\n",
      "adv_rank            0\n",
      "dtype: int64\n",
      "       high_school  high_school_rank  ba_degree  ba_rank  adv_degree  adv_rank\n",
      "count        51.00             51.00      51.00    51.00       51.00     51.00\n",
      "mean         88.54             26.00      30.63    26.00       11.68     25.98\n",
      "std           3.46             14.87       6.23    14.87        4.03     14.87\n",
      "min          76.70              1.00      19.90     1.00        7.80      1.00\n",
      "25%          86.20             13.50      26.95    13.50        9.45     13.50\n",
      "50%          89.30             26.00      29.90    26.00       10.70     26.00\n",
      "75%          91.25             38.50      33.20    38.50       12.80     38.50\n",
      "max          93.00             51.00      56.60    51.00       32.80     51.00\n",
      "-------------------\n",
      "Income\n",
      "Income2017    0\n",
      "Income2016    0\n",
      "Income2015    0\n",
      "Income2014    0\n",
      "Income2013    0\n",
      "Income2012    0\n",
      "Income2011    0\n",
      "Income2010    0\n",
      "Income2009    0\n",
      "Income2008    0\n",
      "Income2007    0\n",
      "dtype: int64\n",
      "       Income2017  Income2016  Income2015  Income2014  Income2013  Income2012  \\\n",
      "count       51.00       51.00       51.00       51.00       51.00       51.00   \n",
      "mean     60241.94    58173.76    56413.69    54544.98    53149.84    51865.88   \n",
      "std      10251.15     9777.93     9505.14     9175.89     8870.50     8644.76   \n",
      "min      43469.00    41754.00    40593.00    39680.00    37963.00    37095.00   \n",
      "25%      53069.00    51303.00    49467.50    47695.00    46857.00    45235.50   \n",
      "50%      58570.00    56565.00    54736.00    52622.00    51440.00    50723.00   \n",
      "75%      68373.00    65642.00    63200.00    61112.50    58787.50    56907.00   \n",
      "max      82336.00    78945.00    75847.00    73971.00    72483.00    71836.00   \n",
      "\n",
      "       Income2011  Income2010  Income2009  Income2008  Income2007  \n",
      "count       51.00       51.00       51.00       51.00       51.00  \n",
      "mean     51033.22    50083.39    50389.18    52123.22    50236.51  \n",
      "std       8464.67     8222.19     8523.82     8518.20     8078.41  \n",
      "min      36919.00    36851.00    36538.00    37790.00    36338.00  \n",
      "25%      44260.50    43895.50    44736.00    46290.50    44100.50  \n",
      "50%      49392.00    48615.00    48408.00    50177.00    48576.00  \n",
      "75%      56578.50    55101.50    55523.00    57140.50    55085.50  \n",
      "max      70004.00    68854.00    69272.00    70545.00    68080.00  \n",
      "-------------------\n",
      "Life_Exp\n",
      "LifeExp2018    0\n",
      "LifeExp2010    0\n",
      "MaleLifeExp    0\n",
      "FemLifeExp     0\n",
      "dtype: int64\n",
      "       LifeExp2018  LifeExp2010  MaleLifeExp  FemLifeExp\n",
      "count        56.00        56.00        56.00       56.00\n",
      "mean         78.71        78.41        76.30       81.12\n",
      "std           1.89         1.69         1.95        1.89\n",
      "min          74.80        74.00        71.90       77.00\n",
      "25%          77.67        77.47        75.20       79.95\n",
      "50%          79.10        78.65        76.75       81.35\n",
      "75%          79.90        79.62        77.60       82.32\n",
      "max          82.30        81.40        79.40       85.60\n",
      "-------------------\n",
      "Region\n",
      "Abb         0\n",
      "Region      0\n",
      "Division    0\n",
      "dtype: int64\n",
      "       Abb Region        Division\n",
      "count   50     50              50\n",
      "unique  50      4               9\n",
      "top     RI  South  South Atlantic\n",
      "freq     1     16               8\n",
      "-------------------\n"
     ]
    }
   ],
   "source": [
    "for df in dataframes:\n",
    "    print(df.name)\n",
    "    print(df.isnull().sum())\n",
    "    print(df.describe())    \n",
    "    print('-------------------')"
   ]
  },
  {
   "cell_type": "markdown",
   "id": "naughty-director",
   "metadata": {},
   "source": [
    "### 3. Save the data"
   ]
  },
  {
   "cell_type": "code",
   "execution_count": 57,
   "id": "damaged-quilt",
   "metadata": {},
   "outputs": [],
   "source": [
    "output_folder_path = r'C:\\Users\\igord\\Projects\\Manning\\Life_exp\\csv\\output'"
   ]
  },
  {
   "cell_type": "code",
   "execution_count": 60,
   "id": "proper-contemporary",
   "metadata": {},
   "outputs": [],
   "source": [
    "for i, df in enumerate(dataframes):\n",
    "    df.to_csv(output_folder_path + separator + datanames[i] + '.csv')"
   ]
  },
  {
   "cell_type": "code",
   "execution_count": null,
   "id": "brazilian-rolling",
   "metadata": {},
   "outputs": [],
   "source": []
  }
 ],
 "metadata": {
  "kernelspec": {
   "display_name": "Python 3",
   "language": "python",
   "name": "python3"
  },
  "language_info": {
   "codemirror_mode": {
    "name": "ipython",
    "version": 3
   },
   "file_extension": ".py",
   "mimetype": "text/x-python",
   "name": "python",
   "nbconvert_exporter": "python",
   "pygments_lexer": "ipython3",
   "version": "3.8.5"
  }
 },
 "nbformat": 4,
 "nbformat_minor": 5
}
